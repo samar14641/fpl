{
 "cells": [
  {
   "cell_type": "code",
   "execution_count": 1,
   "metadata": {},
   "outputs": [],
   "source": [
    "import matplotlib.pyplot as plt\n",
    "import numpy as np\n",
    "import os\n",
    "import pandas as pd"
   ]
  },
  {
   "cell_type": "code",
   "execution_count": 2,
   "metadata": {},
   "outputs": [],
   "source": [
    "overview = pd.read_csv(os.getcwd() + '/Data/overview.csv').set_index('entry')\n",
    "players = pd.read_csv(os.getcwd() + '/Data/player_data.csv').set_index('entry')"
   ]
  },
  {
   "cell_type": "code",
   "execution_count": 3,
   "metadata": {},
   "outputs": [],
   "source": [
    "avgs = {1: 69, 2: 56}"
   ]
  },
  {
   "cell_type": "code",
   "execution_count": 4,
   "metadata": {},
   "outputs": [
    {
     "data": {
      "text/html": [
       "<div>\n",
       "<style scoped>\n",
       "    .dataframe tbody tr th:only-of-type {\n",
       "        vertical-align: middle;\n",
       "    }\n",
       "\n",
       "    .dataframe tbody tr th {\n",
       "        vertical-align: top;\n",
       "    }\n",
       "\n",
       "    .dataframe thead th {\n",
       "        text-align: right;\n",
       "    }\n",
       "</style>\n",
       "<table border=\"1\" class=\"dataframe\">\n",
       "  <thead>\n",
       "    <tr style=\"text-align: right;\">\n",
       "      <th></th>\n",
       "      <th>player_name</th>\n",
       "      <th>entry_name</th>\n",
       "      <th>GW1</th>\n",
       "      <th>GW2</th>\n",
       "    </tr>\n",
       "    <tr>\n",
       "      <th>entry</th>\n",
       "      <th></th>\n",
       "      <th></th>\n",
       "      <th></th>\n",
       "      <th></th>\n",
       "    </tr>\n",
       "  </thead>\n",
       "  <tbody>\n",
       "    <tr>\n",
       "      <th>6411475</th>\n",
       "      <td>Aditya Balaji</td>\n",
       "      <td>love cesc dhoka</td>\n",
       "      <td>56</td>\n",
       "      <td>67</td>\n",
       "    </tr>\n",
       "    <tr>\n",
       "      <th>80353</th>\n",
       "      <td>Anish Bharatrajan</td>\n",
       "      <td>Hoeland</td>\n",
       "      <td>112</td>\n",
       "      <td>88</td>\n",
       "    </tr>\n",
       "    <tr>\n",
       "      <th>2522365</th>\n",
       "      <td>Kunal Agrawal</td>\n",
       "      <td>Expected Toulouse</td>\n",
       "      <td>59</td>\n",
       "      <td>55</td>\n",
       "    </tr>\n",
       "    <tr>\n",
       "      <th>1460606</th>\n",
       "      <td>Mayank Aggarwal</td>\n",
       "      <td>FalconRaiders</td>\n",
       "      <td>69</td>\n",
       "      <td>76</td>\n",
       "    </tr>\n",
       "    <tr>\n",
       "      <th>1478259</th>\n",
       "      <td>Moyukh Banerjee</td>\n",
       "      <td>Silvo's Berluscrony</td>\n",
       "      <td>99</td>\n",
       "      <td>69</td>\n",
       "    </tr>\n",
       "  </tbody>\n",
       "</table>\n",
       "</div>"
      ],
      "text/plain": [
       "               player_name           entry_name  GW1  GW2\n",
       "entry                                                    \n",
       "6411475      Aditya Balaji      love cesc dhoka   56   67\n",
       "80353    Anish Bharatrajan              Hoeland  112   88\n",
       "2522365      Kunal Agrawal    Expected Toulouse   59   55\n",
       "1460606    Mayank Aggarwal        FalconRaiders   69   76\n",
       "1478259    Moyukh Banerjee  Silvo's Berluscrony   99   69"
      ]
     },
     "execution_count": 4,
     "metadata": {},
     "output_type": "execute_result"
    }
   ],
   "source": [
    "players.join(overview).head()"
   ]
  },
  {
   "cell_type": "code",
   "execution_count": 5,
   "metadata": {},
   "outputs": [],
   "source": [
    "def gw_boxplots(data, avg, gw):\n",
    "    plt.boxplot(data)\n",
    "    plt.axhline(data.mean(), ls = ':', color = '#552583', label = 'League Avg: {}'.format(int(round(data.mean()))))\n",
    "    plt.axhline(avg, ls = '--', color = '#00788c', label = 'Overall Avg: {}'.format(avg))\n",
    "    plt.title('{} Points Distro'.format(gw))\n",
    "    plt.xticks([1], [gw])\n",
    "    plt.ylabel('Points')\n",
    "    plt.legend()\n",
    "    plt.show()\n",
    "    plt.close()"
   ]
  },
  {
   "cell_type": "code",
   "execution_count": 6,
   "metadata": {},
   "outputs": [
    {
     "data": {
      "image/png": "[encoded data removed]",
      "text/plain": [
       "<Figure size 432x288 with 1 Axes>"
      ]
     },
     "metadata": {
      "needs_background": "light"
     },
     "output_type": "display_data"
    }
   ],
   "source": [
    "gw_boxplots(overview['GW1'], avgs[1], 'GW1')"
   ]
  },
  {
   "cell_type": "code",
   "execution_count": 7,
   "metadata": {},
   "outputs": [
    {
     "data": {
      "image/png": "[encoded data removed]",
      "text/plain": [
       "<Figure size 432x288 with 1 Axes>"
      ]
     },
     "metadata": {
      "needs_background": "light"
     },
     "output_type": "display_data"
    }
   ],
   "source": [
    "gw_boxplots(overview['GW2'], avgs[2], 'GW2')"
   ]
  },
  {
   "cell_type": "code",
   "execution_count": 17,
   "metadata": {},
   "outputs": [],
   "source": [
    "def single_player(data, name, entry_name):\n",
    "    plt.plot(data.index, data, color = '#552583')\n",
    "    plt.scatter(data.index, data, color = '#552583')\n",
    "    plt.title('{} ({}) Points per GW'.format(name, entry_name))\n",
    "    plt.xlabel('GW')\n",
    "    plt.ylabel('Points')\n",
    "    plt.show()\n",
    "    plt.close()"
   ]
  },
  {
   "cell_type": "code",
   "execution_count": 18,
   "metadata": {},
   "outputs": [
    {
     "data": {
      "image/png": "[encoded data removed]",
      "text/plain": [
       "<Figure size 432x288 with 1 Axes>"
      ]
     },
     "metadata": {
      "needs_background": "light"
     },
     "output_type": "display_data"
    }
   ],
   "source": [
    "pid = 3402797\n",
    "\n",
    "single_player(overview.loc[pid], players.loc[pid]['player_name'], players.loc[pid]['entry_name'])"
   ]
  }
 ],
 "metadata": {
  "kernelspec": {
   "display_name": "Python 3",
   "language": "python",
   "name": "python3"
  },
  "language_info": {
   "codemirror_mode": {
    "name": "ipython",
    "version": 3
   },
   "file_extension": ".py",
   "mimetype": "text/x-python",
   "name": "python",
   "nbconvert_exporter": "python",
   "pygments_lexer": "ipython3",
   "version": "3.8.2"
  }
 },
 "nbformat": 4,
 "nbformat_minor": 4
}
