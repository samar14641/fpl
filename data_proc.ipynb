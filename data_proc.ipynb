{
 "cells": [
  {
   "cell_type": "markdown",
   "metadata": {},
   "source": [
    "### Scripts to collect and process data\n",
    "\n",
    "#### Setup"
   ]
  },
  {
   "cell_type": "code",
   "execution_count": 1,
   "metadata": {},
   "outputs": [],
   "source": [
    "import json\n",
    "import numpy as np\n",
    "import os\n",
    "import pandas as pd\n",
    "import requests"
   ]
  },
  {
   "cell_type": "code",
   "execution_count": 2,
   "metadata": {},
   "outputs": [],
   "source": [
    "LEAGUE_CODE = 284342 \n",
    "LEAGUE_STANDINGS_URL = 'https://fantasy.premierleague.com/api/leagues-classic/{}/standings/'.format(LEAGUE_CODE)"
   ]
  },
  {
   "cell_type": "markdown",
   "metadata": {},
   "source": [
    "#### GW1, GW2, and Overview Data\n",
    "\n",
    "GW1 data was scrapped using Postman after GW1 ended - during GW2. This data will be used to extract initial player data, and GW1 results."
   ]
  },
  {
   "cell_type": "code",
   "execution_count": 3,
   "metadata": {},
   "outputs": [],
   "source": [
    "gw2_file = open(os.getcwd() + '/Raw_Data/gw2.json')\n",
    "gw2_raw = json.load(gw2_file)\n",
    "gw2_file.close()"
   ]
  },
  {
   "cell_type": "markdown",
   "metadata": {},
   "source": [
    "Get player data from GW1 data:"
   ]
  },
  {
   "cell_type": "code",
   "execution_count": 4,
   "metadata": {},
   "outputs": [
    {
     "data": {
      "text/html": [
       "<div>\n",
       "<style scoped>\n",
       "    .dataframe tbody tr th:only-of-type {\n",
       "        vertical-align: middle;\n",
       "    }\n",
       "\n",
       "    .dataframe tbody tr th {\n",
       "        vertical-align: top;\n",
       "    }\n",
       "\n",
       "    .dataframe thead th {\n",
       "        text-align: right;\n",
       "    }\n",
       "</style>\n",
       "<table border=\"1\" class=\"dataframe\">\n",
       "  <thead>\n",
       "    <tr style=\"text-align: right;\">\n",
       "      <th></th>\n",
       "      <th>player_name</th>\n",
       "      <th>entry_name</th>\n",
       "    </tr>\n",
       "    <tr>\n",
       "      <th>entry</th>\n",
       "      <th></th>\n",
       "      <th></th>\n",
       "    </tr>\n",
       "  </thead>\n",
       "  <tbody>\n",
       "    <tr>\n",
       "      <th>6411475</th>\n",
       "      <td>Aditya Balaji</td>\n",
       "      <td>love cesc dhoka</td>\n",
       "    </tr>\n",
       "    <tr>\n",
       "      <th>80353</th>\n",
       "      <td>Anish Bharatrajan</td>\n",
       "      <td>Hoeland</td>\n",
       "    </tr>\n",
       "    <tr>\n",
       "      <th>2522365</th>\n",
       "      <td>Kunal Agrawal</td>\n",
       "      <td>Expected Toulouse</td>\n",
       "    </tr>\n",
       "    <tr>\n",
       "      <th>1460606</th>\n",
       "      <td>Mayank Aggarwal</td>\n",
       "      <td>FalconRaiders</td>\n",
       "    </tr>\n",
       "    <tr>\n",
       "      <th>1478259</th>\n",
       "      <td>Moyukh Banerjee</td>\n",
       "      <td>Silvo's Berluscrony</td>\n",
       "    </tr>\n",
       "  </tbody>\n",
       "</table>\n",
       "</div>"
      ],
      "text/plain": [
       "               player_name           entry_name\n",
       "entry                                          \n",
       "6411475      Aditya Balaji      love cesc dhoka\n",
       "80353    Anish Bharatrajan              Hoeland\n",
       "2522365      Kunal Agrawal    Expected Toulouse\n",
       "1460606    Mayank Aggarwal        FalconRaiders\n",
       "1478259    Moyukh Banerjee  Silvo's Berluscrony"
      ]
     },
     "execution_count": 4,
     "metadata": {},
     "output_type": "execute_result"
    }
   ],
   "source": [
    "players = pd.DataFrame(gw2_raw['standings']['results']).drop(columns = ['id', 'event_total', 'rank', 'last_rank', 'rank_sort', 'total']).set_index('entry').sort_values(by = 'player_name')\n",
    "players.head()"
   ]
  },
  {
   "cell_type": "code",
   "execution_count": 5,
   "metadata": {},
   "outputs": [],
   "source": [
    "players.to_csv(os.getcwd() + '/Data/player_data.csv')"
   ]
  },
  {
   "cell_type": "markdown",
   "metadata": {},
   "source": [
    "Get GW1 data:"
   ]
  },
  {
   "cell_type": "code",
   "execution_count": 6,
   "metadata": {},
   "outputs": [
    {
     "data": {
      "text/html": [
       "<div>\n",
       "<style scoped>\n",
       "    .dataframe tbody tr th:only-of-type {\n",
       "        vertical-align: middle;\n",
       "    }\n",
       "\n",
       "    .dataframe tbody tr th {\n",
       "        vertical-align: top;\n",
       "    }\n",
       "\n",
       "    .dataframe thead th {\n",
       "        text-align: right;\n",
       "    }\n",
       "</style>\n",
       "<table border=\"1\" class=\"dataframe\">\n",
       "  <thead>\n",
       "    <tr style=\"text-align: right;\">\n",
       "      <th></th>\n",
       "      <th>event_total</th>\n",
       "      <th>player_name</th>\n",
       "      <th>total</th>\n",
       "      <th>entry_name</th>\n",
       "      <th>rank</th>\n",
       "    </tr>\n",
       "    <tr>\n",
       "      <th>entry</th>\n",
       "      <th></th>\n",
       "      <th></th>\n",
       "      <th></th>\n",
       "      <th></th>\n",
       "      <th></th>\n",
       "    </tr>\n",
       "  </thead>\n",
       "  <tbody>\n",
       "    <tr>\n",
       "      <th>80353</th>\n",
       "      <td>112</td>\n",
       "      <td>Anish Bharatrajan</td>\n",
       "      <td>112</td>\n",
       "      <td>Hoeland</td>\n",
       "      <td>1</td>\n",
       "    </tr>\n",
       "    <tr>\n",
       "      <th>6499681</th>\n",
       "      <td>108</td>\n",
       "      <td>Ranjib Rudra</td>\n",
       "      <td>108</td>\n",
       "      <td>ShawbertoSanchoddas</td>\n",
       "      <td>2</td>\n",
       "    </tr>\n",
       "    <tr>\n",
       "      <th>1478259</th>\n",
       "      <td>99</td>\n",
       "      <td>Moyukh Banerjee</td>\n",
       "      <td>99</td>\n",
       "      <td>Silvo's Berluscrony</td>\n",
       "      <td>3</td>\n",
       "    </tr>\n",
       "    <tr>\n",
       "      <th>5728251</th>\n",
       "      <td>97</td>\n",
       "      <td>dev maheshwari</td>\n",
       "      <td>97</td>\n",
       "      <td>The Mancunian way</td>\n",
       "      <td>4</td>\n",
       "    </tr>\n",
       "    <tr>\n",
       "      <th>8971</th>\n",
       "      <td>94</td>\n",
       "      <td>Pavan R</td>\n",
       "      <td>94</td>\n",
       "      <td>groÃŸ misconduct</td>\n",
       "      <td>5</td>\n",
       "    </tr>\n",
       "  </tbody>\n",
       "</table>\n",
       "</div>"
      ],
      "text/plain": [
       "         event_total        player_name  total           entry_name  rank\n",
       "entry                                                                    \n",
       "80353            112  Anish Bharatrajan    112              Hoeland     1\n",
       "6499681          108       Ranjib Rudra    108  ShawbertoSanchoddas     2\n",
       "1478259           99    Moyukh Banerjee     99  Silvo's Berluscrony     3\n",
       "5728251           97     dev maheshwari     97    The Mancunian way     4\n",
       "8971              94            Pavan R     94     groÃŸ misconduct     5"
      ]
     },
     "execution_count": 6,
     "metadata": {},
     "output_type": "execute_result"
    }
   ],
   "source": [
    "gw1_df = pd.DataFrame(gw2_raw['standings']['results']).drop(columns = ['id', 'rank', 'last_rank', 'rank_sort']).set_index('entry')\n",
    "\n",
    "gw1_df['event_total'] = gw1_df['total'] - gw1_df['event_total']  # gw1 score = total score - gw2 score\n",
    "gw1_df['total'] = gw1_df['event_total']  # re-assign total scores to 'current' score\n",
    "\n",
    "# sort values to get ranks\n",
    "gw1_df = gw1_df.sort_values(by = 'event_total', ascending = False)\n",
    "gw1_df['rank'] = np.arange(len(gw1_df)) + 1\n",
    "# fix ranks for tied points\n",
    "gw1_df.loc[3402797, 'rank'] = 7\n",
    "gw1_df.loc[53549, 'rank'] = 14\n",
    "\n",
    "gw1_df.head()"
   ]
  },
  {
   "cell_type": "code",
   "execution_count": 7,
   "metadata": {},
   "outputs": [],
   "source": [
    "gw1_df.to_csv(os.getcwd() + '/Data/gw1.csv')"
   ]
  },
  {
   "cell_type": "markdown",
   "metadata": {},
   "source": [
    "Get GW2 data:"
   ]
  },
  {
   "cell_type": "code",
   "execution_count": 8,
   "metadata": {},
   "outputs": [
    {
     "data": {
      "text/html": [
       "<div>\n",
       "<style scoped>\n",
       "    .dataframe tbody tr th:only-of-type {\n",
       "        vertical-align: middle;\n",
       "    }\n",
       "\n",
       "    .dataframe tbody tr th {\n",
       "        vertical-align: top;\n",
       "    }\n",
       "\n",
       "    .dataframe thead th {\n",
       "        text-align: right;\n",
       "    }\n",
       "</style>\n",
       "<table border=\"1\" class=\"dataframe\">\n",
       "  <thead>\n",
       "    <tr style=\"text-align: right;\">\n",
       "      <th></th>\n",
       "      <th>event_total</th>\n",
       "      <th>player_name</th>\n",
       "      <th>rank</th>\n",
       "      <th>total</th>\n",
       "      <th>entry_name</th>\n",
       "    </tr>\n",
       "    <tr>\n",
       "      <th>entry</th>\n",
       "      <th></th>\n",
       "      <th></th>\n",
       "      <th></th>\n",
       "      <th></th>\n",
       "      <th></th>\n",
       "    </tr>\n",
       "  </thead>\n",
       "  <tbody>\n",
       "    <tr>\n",
       "      <th>80353</th>\n",
       "      <td>88</td>\n",
       "      <td>Anish Bharatrajan</td>\n",
       "      <td>1</td>\n",
       "      <td>200</td>\n",
       "      <td>Hoeland</td>\n",
       "    </tr>\n",
       "    <tr>\n",
       "      <th>8971</th>\n",
       "      <td>94</td>\n",
       "      <td>Pavan R</td>\n",
       "      <td>2</td>\n",
       "      <td>188</td>\n",
       "      <td>groÃŸ misconduct</td>\n",
       "    </tr>\n",
       "    <tr>\n",
       "      <th>5728251</th>\n",
       "      <td>74</td>\n",
       "      <td>dev maheshwari</td>\n",
       "      <td>3</td>\n",
       "      <td>171</td>\n",
       "      <td>The Mancunian way</td>\n",
       "    </tr>\n",
       "    <tr>\n",
       "      <th>1478259</th>\n",
       "      <td>69</td>\n",
       "      <td>Moyukh Banerjee</td>\n",
       "      <td>4</td>\n",
       "      <td>168</td>\n",
       "      <td>Silvo's Berluscrony</td>\n",
       "    </tr>\n",
       "    <tr>\n",
       "      <th>6499681</th>\n",
       "      <td>57</td>\n",
       "      <td>Ranjib Rudra</td>\n",
       "      <td>5</td>\n",
       "      <td>165</td>\n",
       "      <td>ShawbertoSanchoddas</td>\n",
       "    </tr>\n",
       "  </tbody>\n",
       "</table>\n",
       "</div>"
      ],
      "text/plain": [
       "         event_total        player_name  rank  total           entry_name\n",
       "entry                                                                    \n",
       "80353             88  Anish Bharatrajan     1    200              Hoeland\n",
       "8971              94            Pavan R     2    188     groÃŸ misconduct\n",
       "5728251           74     dev maheshwari     3    171    The Mancunian way\n",
       "1478259           69    Moyukh Banerjee     4    168  Silvo's Berluscrony\n",
       "6499681           57       Ranjib Rudra     5    165  ShawbertoSanchoddas"
      ]
     },
     "execution_count": 8,
     "metadata": {},
     "output_type": "execute_result"
    }
   ],
   "source": [
    "gw2_df = pd.DataFrame(gw2_raw['standings']['results']).drop(columns = ['id', 'last_rank', 'rank_sort']).set_index('entry')\n",
    "gw2_df.head()"
   ]
  },
  {
   "cell_type": "code",
   "execution_count": 9,
   "metadata": {},
   "outputs": [],
   "source": [
    "gw2_df.to_csv(os.getcwd() + '/Data/gw2.csv')"
   ]
  },
  {
   "cell_type": "markdown",
   "metadata": {},
   "source": [
    "For the overview data, each column is a GW, rows are players (indexed by entry), and attribute values are corresponding GW scores."
   ]
  },
  {
   "cell_type": "code",
   "execution_count": 10,
   "metadata": {},
   "outputs": [
    {
     "data": {
      "text/html": [
       "<div>\n",
       "<style scoped>\n",
       "    .dataframe tbody tr th:only-of-type {\n",
       "        vertical-align: middle;\n",
       "    }\n",
       "\n",
       "    .dataframe tbody tr th {\n",
       "        vertical-align: top;\n",
       "    }\n",
       "\n",
       "    .dataframe thead th {\n",
       "        text-align: right;\n",
       "    }\n",
       "</style>\n",
       "<table border=\"1\" class=\"dataframe\">\n",
       "  <thead>\n",
       "    <tr style=\"text-align: right;\">\n",
       "      <th></th>\n",
       "      <th>GW1</th>\n",
       "      <th>GW2</th>\n",
       "    </tr>\n",
       "    <tr>\n",
       "      <th>entry</th>\n",
       "      <th></th>\n",
       "      <th></th>\n",
       "    </tr>\n",
       "  </thead>\n",
       "  <tbody>\n",
       "    <tr>\n",
       "      <th>80353</th>\n",
       "      <td>112</td>\n",
       "      <td>88</td>\n",
       "    </tr>\n",
       "    <tr>\n",
       "      <th>6499681</th>\n",
       "      <td>108</td>\n",
       "      <td>57</td>\n",
       "    </tr>\n",
       "    <tr>\n",
       "      <th>1478259</th>\n",
       "      <td>99</td>\n",
       "      <td>69</td>\n",
       "    </tr>\n",
       "    <tr>\n",
       "      <th>5728251</th>\n",
       "      <td>97</td>\n",
       "      <td>74</td>\n",
       "    </tr>\n",
       "    <tr>\n",
       "      <th>8971</th>\n",
       "      <td>94</td>\n",
       "      <td>94</td>\n",
       "    </tr>\n",
       "  </tbody>\n",
       "</table>\n",
       "</div>"
      ],
      "text/plain": [
       "         GW1  GW2\n",
       "entry            \n",
       "80353    112   88\n",
       "6499681  108   57\n",
       "1478259   99   69\n",
       "5728251   97   74\n",
       "8971      94   94"
      ]
     },
     "execution_count": 10,
     "metadata": {},
     "output_type": "execute_result"
    }
   ],
   "source": [
    "overview_init = pd.DataFrame(gw2_raw['standings']['results']).drop(columns = ['id', 'rank', 'last_rank', 'rank_sort', 'player_name', 'entry_name']).set_index('entry')\n",
    "\n",
    "overview_init['event_total'] = overview_init['total'] - overview_init['event_total']\n",
    "overview_init['total'] = overview_init['event_total']\n",
    "\n",
    "overview_init = overview_init.drop(columns = ['total']).rename(columns = {'event_total': 'GW1'}).sort_values(by = 'GW1', ascending = False).join(gw2_df).rename(columns = {'event_total': 'GW2'}).drop(columns = ['player_name', 'rank', 'total', 'entry_name'])\n",
    "\n",
    "overview_init.head()"
   ]
  },
  {
   "cell_type": "code",
   "execution_count": 11,
   "metadata": {},
   "outputs": [],
   "source": [
    "overview_init.to_csv(os.getcwd() + '/Data/overview.csv')"
   ]
  },
  {
   "cell_type": "code",
   "execution_count": 12,
   "metadata": {},
   "outputs": [],
   "source": [
    "# overview_init.join(players)"
   ]
  },
  {
   "cell_type": "markdown",
   "metadata": {},
   "source": [
    "#### Get data for current GW:"
   ]
  },
  {
   "cell_type": "code",
   "execution_count": 3,
   "metadata": {},
   "outputs": [],
   "source": [
    "def get_data():\n",
    "    try:\n",
    "        res = requests.get(LEAGUE_STANDINGS_URL)\n",
    "        \n",
    "        df = pd.DataFrame(res.json()['standings']['results']).drop(columns = ['id', 'last_rank', 'rank_sort']).set_index('entry')\n",
    "        \n",
    "        return res.status_code, df\n",
    "    \n",
    "    except Exception as e:\n",
    "        return res.status_code, None        "
   ]
  },
  {
   "cell_type": "code",
   "execution_count": 4,
   "metadata": {},
   "outputs": [
    {
     "data": {
      "text/plain": [
       "200"
      ]
     },
     "execution_count": 4,
     "metadata": {},
     "output_type": "execute_result"
    }
   ],
   "source": [
    "status, curr_gw_df = get_data()\n",
    "status"
   ]
  },
  {
   "cell_type": "code",
   "execution_count": 5,
   "metadata": {},
   "outputs": [
    {
     "data": {
      "text/html": [
       "<div>\n",
       "<style scoped>\n",
       "    .dataframe tbody tr th:only-of-type {\n",
       "        vertical-align: middle;\n",
       "    }\n",
       "\n",
       "    .dataframe tbody tr th {\n",
       "        vertical-align: top;\n",
       "    }\n",
       "\n",
       "    .dataframe thead th {\n",
       "        text-align: right;\n",
       "    }\n",
       "</style>\n",
       "<table border=\"1\" class=\"dataframe\">\n",
       "  <thead>\n",
       "    <tr style=\"text-align: right;\">\n",
       "      <th></th>\n",
       "      <th>event_total</th>\n",
       "      <th>player_name</th>\n",
       "      <th>rank</th>\n",
       "      <th>total</th>\n",
       "      <th>entry_name</th>\n",
       "    </tr>\n",
       "    <tr>\n",
       "      <th>entry</th>\n",
       "      <th></th>\n",
       "      <th></th>\n",
       "      <th></th>\n",
       "      <th></th>\n",
       "      <th></th>\n",
       "    </tr>\n",
       "  </thead>\n",
       "  <tbody>\n",
       "    <tr>\n",
       "      <th>8971</th>\n",
       "      <td>73</td>\n",
       "      <td>Pavan R</td>\n",
       "      <td>1</td>\n",
       "      <td>334</td>\n",
       "      <td>groß misconduct</td>\n",
       "    </tr>\n",
       "    <tr>\n",
       "      <th>80353</th>\n",
       "      <td>74</td>\n",
       "      <td>Anish Bharatrajan</td>\n",
       "      <td>2</td>\n",
       "      <td>325</td>\n",
       "      <td>Hoeland</td>\n",
       "    </tr>\n",
       "    <tr>\n",
       "      <th>5728251</th>\n",
       "      <td>75</td>\n",
       "      <td>dev maheshwari</td>\n",
       "      <td>3</td>\n",
       "      <td>311</td>\n",
       "      <td>The Mancunian way</td>\n",
       "    </tr>\n",
       "    <tr>\n",
       "      <th>6499681</th>\n",
       "      <td>55</td>\n",
       "      <td>Ranjib Rudra</td>\n",
       "      <td>4</td>\n",
       "      <td>280</td>\n",
       "      <td>ShawbertoSanchoddas</td>\n",
       "    </tr>\n",
       "    <tr>\n",
       "      <th>3309014</th>\n",
       "      <td>62</td>\n",
       "      <td>Sudhanshu Srivastava</td>\n",
       "      <td>5</td>\n",
       "      <td>279</td>\n",
       "      <td>Finding Timo</td>\n",
       "    </tr>\n",
       "  </tbody>\n",
       "</table>\n",
       "</div>"
      ],
      "text/plain": [
       "         event_total           player_name  rank  total           entry_name\n",
       "entry                                                                       \n",
       "8971              73               Pavan R     1    334      groß misconduct\n",
       "80353             74     Anish Bharatrajan     2    325              Hoeland\n",
       "5728251           75        dev maheshwari     3    311    The Mancunian way\n",
       "6499681           55          Ranjib Rudra     4    280  ShawbertoSanchoddas\n",
       "3309014           62  Sudhanshu Srivastava     5    279         Finding Timo"
      ]
     },
     "execution_count": 5,
     "metadata": {},
     "output_type": "execute_result"
    }
   ],
   "source": [
    "curr_gw_df.head()"
   ]
  },
  {
   "cell_type": "code",
   "execution_count": 6,
   "metadata": {},
   "outputs": [],
   "source": [
    "curr_gw_df.to_csv(os.getcwd() + '/Data/gw4.csv')"
   ]
  },
  {
   "cell_type": "markdown",
   "metadata": {},
   "source": [
    "Update overview file:"
   ]
  },
  {
   "cell_type": "code",
   "execution_count": 7,
   "metadata": {},
   "outputs": [
    {
     "data": {
      "text/html": [
       "<div>\n",
       "<style scoped>\n",
       "    .dataframe tbody tr th:only-of-type {\n",
       "        vertical-align: middle;\n",
       "    }\n",
       "\n",
       "    .dataframe tbody tr th {\n",
       "        vertical-align: top;\n",
       "    }\n",
       "\n",
       "    .dataframe thead th {\n",
       "        text-align: right;\n",
       "    }\n",
       "</style>\n",
       "<table border=\"1\" class=\"dataframe\">\n",
       "  <thead>\n",
       "    <tr style=\"text-align: right;\">\n",
       "      <th></th>\n",
       "      <th>GW1</th>\n",
       "      <th>GW2</th>\n",
       "      <th>GW3</th>\n",
       "    </tr>\n",
       "    <tr>\n",
       "      <th>entry</th>\n",
       "      <th></th>\n",
       "      <th></th>\n",
       "      <th></th>\n",
       "    </tr>\n",
       "  </thead>\n",
       "  <tbody>\n",
       "    <tr>\n",
       "      <th>80353</th>\n",
       "      <td>112</td>\n",
       "      <td>88</td>\n",
       "      <td>55</td>\n",
       "    </tr>\n",
       "    <tr>\n",
       "      <th>6499681</th>\n",
       "      <td>108</td>\n",
       "      <td>57</td>\n",
       "      <td>64</td>\n",
       "    </tr>\n",
       "    <tr>\n",
       "      <th>1478259</th>\n",
       "      <td>99</td>\n",
       "      <td>69</td>\n",
       "      <td>49</td>\n",
       "    </tr>\n",
       "    <tr>\n",
       "      <th>5728251</th>\n",
       "      <td>97</td>\n",
       "      <td>74</td>\n",
       "      <td>65</td>\n",
       "    </tr>\n",
       "    <tr>\n",
       "      <th>8971</th>\n",
       "      <td>94</td>\n",
       "      <td>94</td>\n",
       "      <td>73</td>\n",
       "    </tr>\n",
       "  </tbody>\n",
       "</table>\n",
       "</div>"
      ],
      "text/plain": [
       "         GW1  GW2  GW3\n",
       "entry                 \n",
       "80353    112   88   55\n",
       "6499681  108   57   64\n",
       "1478259   99   69   49\n",
       "5728251   97   74   65\n",
       "8971      94   94   73"
      ]
     },
     "execution_count": 7,
     "metadata": {},
     "output_type": "execute_result"
    }
   ],
   "source": [
    "overview = pd.read_csv(os.getcwd() + '/Data/overview.csv').set_index('entry')\n",
    "overview.head()"
   ]
  },
  {
   "cell_type": "code",
   "execution_count": 8,
   "metadata": {},
   "outputs": [],
   "source": [
    "overview.join(curr_gw_df).drop(columns = ['player_name', 'rank', 'total', 'entry_name']).rename(columns = {'event_total': 'GW4'}).to_csv(os.getcwd() + '/Data/overview.csv')"
   ]
  }
 ],
 "metadata": {
  "kernelspec": {
   "display_name": "Python 3",
   "language": "python",
   "name": "python3"
  },
  "language_info": {
   "codemirror_mode": {
    "name": "ipython",
    "version": 3
   },
   "file_extension": ".py",
   "mimetype": "text/x-python",
   "name": "python",
   "nbconvert_exporter": "python",
   "pygments_lexer": "ipython3",
   "version": "3.8.2"
  }
 },
 "nbformat": 4,
 "nbformat_minor": 4
}
